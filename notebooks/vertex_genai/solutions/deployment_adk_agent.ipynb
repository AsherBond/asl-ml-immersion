{
 "cells": [
  {
   "cell_type": "markdown",
   "id": "2fdb77ea71896541",
   "metadata": {},
   "source": [
    "# Deploying ADK Agent on Vertex AI Agent Engine"
   ]
  },
  {
   "cell_type": "markdown",
   "id": "d4b17ab0-673c-4a1c-9816-1414c60fd926",
   "metadata": {
    "tags": []
   },
   "source": [
    "## Overview\n",
    "\n",
    "This notebook guides you through deploying and managing a conversational AI agent to **Vertex AI Agent Engine**. \n",
    "\n",
    "## Learning Goals\n",
    "\n",
    "By the end of this notebook, you will understand how to:\n",
    "* Set up required configuration and deploy ADK **Agents** to **Vertex AI Agent Engine**.\n",
    "* Use the ADK **RemoteAgent** ans **RemoteSession** to execute agent interactions.\n",
    "* Use the ADK to Manage (list/update) and delete agents that you have deployed to Vertex AI Agent Engine."
   ]
  },
  {
   "cell_type": "markdown",
   "id": "31c5d860-0945-4799-b2ba-74298c87ee3b",
   "metadata": {},
   "source": [
    "## Deployment Options\n",
    "Your ADK agent can be deployed to a range of different environments based on your needs for production readiness or custom flexibility:\n",
    "\n",
    "#### Agent Engine in Vertex AI\n",
    "Agent Engine is a fully managed auto-scaling service on Google Cloud specifically designed for deploying, managing, and scaling AI agents built with frameworks such as ADK.\n",
    "\n",
    "Learn more about deploying your agent to Vertex AI Agent Engine.\n",
    "\n",
    "#### Cloud Run\n",
    "Cloud Run is a managed auto-scaling compute platform on Google Cloud that enables you to run your agent as a container-based application.\n",
    "\n",
    "Learn more about deploying your agent to Cloud Run.\n",
    "\n",
    "#### Google Kubernetes Engine (GKE)\n",
    "Google Kubernetes Engine (GKE) is a managed Kubernetes service of Google Cloud that allows you to run your agent in a containerized environment. GKE is a good option if you need more control over the deployment as well as for running Open Models.\n",
    "\n",
    "Learn more about deploying your agent to GKE."
   ]
  },
  {
   "cell_type": "markdown",
   "id": "3d255611-a6ea-4605-b70d-326d91fa438d",
   "metadata": {},
   "source": [
    "## Setup\n",
    "This lab needs a special kernel to run, please run the following cell.\n",
    "**NOTE: You can skip this step if you have already built the ADK Kernel from the previous Lab**"
   ]
  },
  {
   "cell_type": "code",
   "execution_count": null,
   "id": "ebecae6b-b122-4c50-8614-24bee5114444",
   "metadata": {
    "tags": []
   },
   "outputs": [],
   "source": [
    "!echo \"Kernel installation started.\"\n",
    "!cd ../../.. && make adk_kernel > /dev/null 2>&1\n",
    "!echo \"Kernel installation completed.\""
   ]
  },
  {
   "cell_type": "markdown",
   "id": "ae474f30-8d24-46c9-a88e-48480cae9dac",
   "metadata": {},
   "source": [
    "When it's completed, select the **`ADK Kernel`** on the top right before going forward in the notebook.<br>\n",
    "It may take ~1 minutes until the kernel is shown after the installation."
   ]
  },
  {
   "cell_type": "markdown",
   "id": "41f5ecd2-09e3-4801-9918-bbf861b62d3d",
   "metadata": {},
   "source": [
    "## Install Packages"
   ]
  },
  {
   "cell_type": "code",
   "execution_count": null,
   "id": "09d0fe85-302a-4ac6-afcb-360bb7764c3d",
   "metadata": {
    "tags": []
   },
   "outputs": [],
   "source": [
    "import asyncio\n",
    "import importlib\n",
    "import json\n",
    "import os\n",
    "import warnings\n",
    "\n",
    "import pandas as pd\n",
    "from google.adk.agents import Agent\n",
    "from google.adk.models.lite_llm import LiteLlm  # For multi-model support\n",
    "from google.adk.runners import Runner\n",
    "from google.adk.sessions import InMemorySessionService\n",
    "from google.adk.tools.tool_context import ToolContext\n",
    "from google.genai import types  # For creating message Content/Parts\n",
    "from IPython.display import HTML, Markdown, display\n",
    "\n",
    "# Ignore all warnings\n",
    "warnings.filterwarnings(\"ignore\")\n",
    "\n",
    "import logging\n",
    "\n",
    "logging.basicConfig(level=logging.ERROR)"
   ]
  },
  {
   "cell_type": "code",
   "execution_count": null,
   "id": "9e7b1b3e-6b91-42f4-9550-fe027efb1988",
   "metadata": {
    "tags": []
   },
   "outputs": [],
   "source": [
    "LOCATION = \"us-central1\"\n",
    "os.environ[\"GOOGLE_CLOUD_LOCATION\"] = LOCATION\n",
    "os.environ[\"GOOGLE_GENAI_USE_VERTEXAI\"] = \"TRUE\"  # Use Vertex AI API"
   ]
  },
  {
   "cell_type": "code",
   "execution_count": null,
   "id": "ec87bb48-e10d-49f7-97da-4ffc52edd4a4",
   "metadata": {
    "tags": []
   },
   "outputs": [],
   "source": [
    "%%bash\n",
    "echo > adk_agents/.env \"GOOGLE_CLOUD_LOCATION=$GOOGLE_CLOUD_LOCATION\n",
    "GOOGLE_GENAI_USE_VERTEXAI=$GOOGLE_GENAI_USE_VERTEXAI\n",
    "\""
   ]
  },
  {
   "cell_type": "code",
   "execution_count": null,
   "id": "f9593b46-00f1-4af6-926d-e58017535000",
   "metadata": {
    "tags": []
   },
   "outputs": [],
   "source": [
    "MODEL = \"gemini-2.0-flash\""
   ]
  },
  {
   "cell_type": "markdown",
   "id": "17554fcf-08b1-451c-980c-41a1fc539f4a",
   "metadata": {},
   "source": [
    "## Basic App: Weather Lookup\n",
    "**NOTE: You can skip this step if you have already created \"./adk_agents/agent1_weather_lookup/tools.py\" file from the previous Lab**\n",
    "\n",
    "Let's begin by building the fundamental component of our Weather Bot: a single agent capable of performing a specific task – looking up weather information. This involves creating two core pieces:\n",
    "\n",
    "- A Tool: A Python function that equips the agent with the ability to fetch weather data.\n",
    "- An Agent: The AI \"brain\" that understands the user's request, knows it has a weather tool, and decides when and how to use it."
   ]
  },
  {
   "cell_type": "markdown",
   "id": "a2d754cc-3499-4b81-81ec-4ba1f4da7a61",
   "metadata": {},
   "source": [
    "### Define the Tool (get_weather)\n",
    "\n",
    "In ADK, **Tools** are the building blocks that give agents concrete capabilities beyond just text generation. They are typically regular Python functions that perform specific actions, like calling an API, querying a database, or performing calculations.\n",
    "\n",
    "Our first tool will provide a *mock* weather report. This allows us to focus on the agent structure without needing external API keys yet. Later, you could easily swap this mock function with one that calls a real weather service.\n",
    "\n",
    "**Key Concept: Docstrings are Crucial\\!** The agent's LLM relies heavily on the function's **docstring** to understand:\n",
    "\n",
    "* *What* the tool does.  \n",
    "* *When* to use it.  \n",
    "* *What arguments* it requires (`city: str`).  \n",
    "* *What information* it returns.\n",
    "\n",
    "**Best Practice:** Write clear, descriptive, and accurate docstrings for your tools. This is essential for the LLM to use the tool correctly."
   ]
  },
  {
   "cell_type": "code",
   "execution_count": null,
   "id": "7a289a32-cfd2-48cf-abd5-edbc60c12b2c",
   "metadata": {
    "tags": []
   },
   "outputs": [],
   "source": [
    "%%writefile ./adk_agents/agent1_weather_lookup/tools.py\n",
    "def get_weather(city: str) -> dict:\n",
    "    \"\"\"Retrieves the current weather report for a specified city.\n",
    "\n",
    "    Args:\n",
    "        city (str): The name of the city (e.g., \"New York\", \"London\", \"Tokyo\").\n",
    "\n",
    "    Returns:\n",
    "        dict: A dictionary containing the weather information.\n",
    "              Includes a 'status' key ('success' or 'error').\n",
    "              If 'success', includes a 'report' key with weather details.\n",
    "              If 'error', includes an 'error_message' key.\n",
    "    \"\"\"\n",
    "    print(f\"--- Tool: get_weather called for city: {city} ---\") # Log tool execution\n",
    "    city_normalized = city.lower().replace(\" \", \"\") # Basic normalization\n",
    "\n",
    "    # Mock weather data\n",
    "    mock_weather_db = {\n",
    "        \"newyork\": {\"status\": \"success\", \"report\": \"The weather in New York is sunny with a temperature of 25°C.\"},\n",
    "        \"london\": {\"status\": \"success\", \"report\": \"It's cloudy in London with a temperature of 15°C.\"},\n",
    "        \"tokyo\": {\"status\": \"success\", \"report\": \"Tokyo is experiencing light rain and a temperature of 18°C.\"},\n",
    "    }\n",
    "\n",
    "    if city_normalized in mock_weather_db:\n",
    "        return mock_weather_db[city_normalized]\n",
    "    else:\n",
    "        return {\"status\": \"error\", \"error_message\": f\"Sorry, I don't have weather information for '{city}'.\"}"
   ]
  },
  {
   "cell_type": "markdown",
   "id": "d287a1bc-247f-4a89-9105-22dbf76c3042",
   "metadata": {
    "tags": []
   },
   "source": [
    "### Define the Agent (`weather_agent`)\n",
    "\n",
    "### NOTE: You can skip this step if you have already created \"./adk_agents/agent1_weather_lookup/agent.py\" file from the previous Lab\n",
    "\n",
    "Now, let's create the **Agent** itself. An `Agent` in ADK orchestrates the interaction between the user, the LLM, and the available tools.\n",
    "\n",
    "We configure it with several key parameters:\n",
    "\n",
    "* `name`: A unique identifier for this agent (e.g., \"weather\\_agent\\_v1\").  \n",
    "* `model`: Specifies which LLM to use (e.g., `gemini-2.0-flash`).\n",
    "* `description`: A concise summary of the agent's overall purpose. This becomes crucial later when other agents need to decide whether to delegate tasks to *this* agent.  \n",
    "* `instruction`: Detailed guidance for the LLM on how to behave, its persona, its goals, and specifically *how and when* to utilize its assigned `tools`.  \n",
    "* `tools`: A list containing the actual Python tool functions the agent is allowed to use (e.g., `[get_weather]`).\n",
    "\n",
    "**Best Practices:** \n",
    "- Choose descriptive `name` and `description` values. These are used internally by ADK and are vital for features like automatic delegation (covered later).\n",
    "- Provide clear and specific `instruction` prompts. The more detailed the instructions, the better the LLM can understand its role and how to use its tools effectively. Be explicit about error handling if needed."
   ]
  },
  {
   "cell_type": "code",
   "execution_count": null,
   "id": "bd0d941f-7aee-4bb7-90d6-d6dbae11181d",
   "metadata": {
    "tags": []
   },
   "outputs": [],
   "source": [
    "%%writefile ./adk_agents/agent1_weather_lookup/agent.py\n",
    "from google.adk.agents import Agent\n",
    "MODEL = \"gemini-2.0-flash\"\n",
    "\n",
    "from .tools import get_weather\n",
    "\n",
    "root_agent = Agent(\n",
    "    name=\"weather_agent_v1\",\n",
    "    model=MODEL, # Can be a string for Gemini or a LiteLlm object\n",
    "    description=\"Provides weather information for specific cities.\",\n",
    "    instruction=\"You are a helpful weather assistant. \"\n",
    "                \"When the user asks for the weather in a specific city, \"\n",
    "                \"use the 'get_weather' tool to find the information. \"\n",
    "                \"If the tool returns an error, inform the user politely. \"\n",
    "                \"If the tool is successful, present the weather report clearly.\",\n",
    "    tools=[get_weather], # Pass the function directly\n",
    ")"
   ]
  },
  {
   "cell_type": "code",
   "execution_count": null,
   "id": "ca24f126-5532-4331-ada0-a91a9b71fee9",
   "metadata": {
    "tags": []
   },
   "outputs": [],
   "source": [
    "from adk_agents.agent1_weather_lookup import agent\n",
    "\n",
    "importlib.reload(agent)  # Force reload\n",
    "\n",
    "# Example tool usage (optional test)\n",
    "print(agent.get_weather(\"New York\"))\n",
    "print(agent.get_weather(\"Dublin\"))"
   ]
  },
  {
   "cell_type": "code",
   "execution_count": null,
   "id": "a52d1dc7-c6e7-45e5-be52-358934dfbcd7",
   "metadata": {
    "tags": []
   },
   "outputs": [],
   "source": [
    "APP_NAME = \"weather_info_app\"\n",
    "USER_ID = \"user_1\"\n",
    "SESSION_ID = \"session_001\"  # Using a fixed ID for simplicity\n",
    "EXPERIMENT_NAME = \"weather-agent-v1\""
   ]
  },
  {
   "cell_type": "markdown",
   "id": "78294254-96ba-4ee3-8ccc-33be9c83ef2a",
   "metadata": {
    "tags": []
   },
   "source": [
    "# Deploy to Vertex AI Agent Engine\n",
    "Agent Engine is a fully managed Google Cloud service enabling developers to deploy, manage, and scale AI agents in production. \n",
    "Agent Engine handles the infrastructure to scale agents in production so you can focus on creating intelligent and impactful applications."
   ]
  },
  {
   "cell_type": "code",
   "execution_count": null,
   "id": "93b5a5e6-c151-4c91-bf29-3982baf07830",
   "metadata": {
    "tags": []
   },
   "outputs": [],
   "source": [
    "LOCATION = \"us-central1\"\n",
    "PROJECT = !gcloud config list --format 'value(core.project)'\n",
    "PROJECT = PROJECT[0]\n",
    "BUCKET_NAME = f\"agent-evaluation-{PROJECT}-bucket\"\n",
    "BUCKET_URI = f\"gs://{BUCKET_NAME}\""
   ]
  },
  {
   "cell_type": "markdown",
   "id": "8a3e13a4-81da-43b0-b673-2591ff98ec23",
   "metadata": {},
   "source": [
    "**Checking for the existence of BUCKET. Creating it if it doesn't exist:**"
   ]
  },
  {
   "cell_type": "code",
   "execution_count": null,
   "id": "826bda76-bba8-4bde-905d-5d05b85022bf",
   "metadata": {
    "tags": []
   },
   "outputs": [],
   "source": [
    "!gsutil ls $BUCKET_URI || gsutil mb -l $LOCATION $BUCKET_URI"
   ]
  },
  {
   "cell_type": "markdown",
   "id": "4696b723-b631-4d0c-b660-d53c3b4627b0",
   "metadata": {
    "tags": []
   },
   "source": [
    "### Initialization"
   ]
  },
  {
   "cell_type": "code",
   "execution_count": null,
   "id": "61d73e11-d05f-4c82-90cd-1a7f20d61707",
   "metadata": {
    "tags": []
   },
   "outputs": [],
   "source": [
    "import os\n",
    "\n",
    "import vertexai\n",
    "from absl import app, flags\n",
    "from dotenv import load_dotenv\n",
    "from vertexai import agent_engines\n",
    "from vertexai.preview.reasoning_engines import AdkApp\n",
    "\n",
    "vertexai.init(project=PROJECT, location=LOCATION, staging_bucket=BUCKET_URI)"
   ]
  },
  {
   "cell_type": "markdown",
   "id": "62f3f71a-44db-4919-a668-8f78d0408ef9",
   "metadata": {},
   "source": [
    "### Prepare your agent for Agent Engine¶\n",
    "Use reasoning_engines.AdkApp() to wrap your agent to make it deployable to Agent Engine"
   ]
  },
  {
   "cell_type": "code",
   "execution_count": null,
   "id": "61196180-5bfb-42e9-81e5-bf51707fdeb9",
   "metadata": {
    "tags": []
   },
   "outputs": [],
   "source": [
    "adk_app = AdkApp(agent=agent.root_agent, enable_tracing=True)"
   ]
  },
  {
   "cell_type": "markdown",
   "id": "943f8b2b-796b-4bd7-9a46-a55f909d0251",
   "metadata": {
    "tags": []
   },
   "source": [
    "### Deploy your agent to Agent Engine\n",
    "\n",
    "Now you're ready to deploy your agent to Agent Engine in Vertex AI by calling `agent_engines.create()` along with:\n",
    "\n",
    "1. The instance of your agent class\n",
    "2. The Python packages and versions that your agent requires at runtime, similar to how you would define packages and versions in a `requirements.txt` file.\n",
    "\n",
    "This step may take several minutes to finish."
   ]
  },
  {
   "cell_type": "code",
   "execution_count": null,
   "id": "3385e1f9-183f-4aa8-b207-a7b812225709",
   "metadata": {
    "tags": []
   },
   "outputs": [],
   "source": [
    "DISPLAY_NAME = agent.root_agent.name\n",
    "\n",
    "remote_app = agent_engines.create(\n",
    "    adk_app,\n",
    "    display_name=DISPLAY_NAME,\n",
    "    description=\"Weather Agent v1\",\n",
    "    requirements=[\n",
    "        \"google-adk (>=1.5.0)\",\n",
    "        \"google-genai (>=1.5.0,<2.0.0)\",\n",
    "    ],\n",
    "    extra_packages=[\"./adk_agents/\"],\n",
    ")\n",
    "\n",
    "print(f\"Created remote agent: {remote_app.resource_name}\")"
   ]
  },
  {
   "cell_type": "markdown",
   "id": "cb79886b-d9a4-42c9-9057-ab1c8e47741b",
   "metadata": {
    "tags": []
   },
   "source": [
    "### Try ADK agent on Agent Engine\n",
    "#### Create session (remote)"
   ]
  },
  {
   "cell_type": "code",
   "execution_count": null,
   "id": "a66e1aca-4e83-40ee-a075-62f4ee0d0ded",
   "metadata": {
    "tags": []
   },
   "outputs": [],
   "source": [
    "remote_session = remote_app.create_session(user_id=USER_ID)"
   ]
  },
  {
   "cell_type": "markdown",
   "id": "3228281f-c7a1-4979-850e-3a77aaedbeb5",
   "metadata": {},
   "source": [
    "#### Expected output for create_session (remote):"
   ]
  },
  {
   "cell_type": "code",
   "execution_count": null,
   "id": "2cdb8c01-7f9c-4a57-bfc6-17728fe80584",
   "metadata": {
    "tags": []
   },
   "outputs": [],
   "source": [
    "remote_session"
   ]
  },
  {
   "cell_type": "markdown",
   "id": "ea085250-f788-4897-98a3-5129b79565d1",
   "metadata": {
    "tags": []
   },
   "source": [
    "#### id is the session ID, and app_name is the resource ID of the deployed agent on Agent Engine."
   ]
  },
  {
   "cell_type": "markdown",
   "id": "a9015cf5-727a-40e7-b31c-6e17af78d2a9",
   "metadata": {
    "tags": []
   },
   "source": [
    "#### List sessions (remote)"
   ]
  },
  {
   "cell_type": "code",
   "execution_count": null,
   "id": "93d108fa-7a98-4bee-b359-7cf351fd230c",
   "metadata": {
    "tags": []
   },
   "outputs": [],
   "source": [
    "remote_app.list_sessions(user_id=USER_ID)"
   ]
  },
  {
   "cell_type": "markdown",
   "id": "eecae378-9d00-4382-8575-a8dc124fe135",
   "metadata": {
    "tags": []
   },
   "source": [
    "#### Get a specific session (remote)\n",
    "While using your agent locally, session ID is stored in session.id, when using your agent remotely on Agent Engine, session ID is stored in remote_session[\"id\"]."
   ]
  },
  {
   "cell_type": "code",
   "execution_count": null,
   "id": "b6f39e81-8460-43eb-8465-250dc1fb7f0d",
   "metadata": {
    "tags": []
   },
   "outputs": [],
   "source": [
    "remote_app.get_session(user_id=USER_ID, session_id=remote_session[\"id\"])"
   ]
  },
  {
   "cell_type": "markdown",
   "id": "2ff13a35ccd5d2f6",
   "metadata": {},
   "source": [
    "#### Send queries to your agent (remote)"
   ]
  },
  {
   "cell_type": "markdown",
   "id": "325b46e6-9109-451a-b7d6-d5d0914a7f78",
   "metadata": {},
   "source": [
    "Now you can send a prompt to your remote agent using .stream_query to test that it's working as expected:"
   ]
  },
  {
   "cell_type": "code",
   "execution_count": null,
   "id": "20ab2bd9-e0ae-4726-81fa-7cb2d9836a74",
   "metadata": {
    "tags": []
   },
   "outputs": [],
   "source": [
    "for event in remote_app.stream_query(\n",
    "    user_id=USER_ID,\n",
    "    session_id=remote_session[\"id\"],\n",
    "    message=\"What's the weather in New York?\",\n",
    "):\n",
    "    print(event)"
   ]
  },
  {
   "cell_type": "markdown",
   "id": "fa754fa2-131a-4b27-8a20-7e753d9c294d",
   "metadata": {},
   "source": [
    "#### Format the stream output as a key-value pairs:"
   ]
  },
  {
   "cell_type": "code",
   "execution_count": null,
   "id": "f1997b03-903f-4595-a975-ea07b0aa4946",
   "metadata": {
    "tags": []
   },
   "outputs": [],
   "source": [
    "for event in remote_app.stream_query(\n",
    "    user_id=USER_ID,\n",
    "    session_id=remote_session[\"id\"],\n",
    "    message=\"whats the weather in Dublin\",\n",
    "):\n",
    "    for key, label in event.items():\n",
    "        print(\"\\n------>\")\n",
    "        print(f\"{key} : {label}\")"
   ]
  },
  {
   "cell_type": "markdown",
   "id": "2e24cff9-bde3-4b81-81da-f65897aa4e78",
   "metadata": {},
   "source": [
    "### Manage deployed agents\n",
    "Deployed agents are resources of type reasoningEngine in Vertex AI."
   ]
  },
  {
   "cell_type": "markdown",
   "id": "45a3a60f-3445-40c1-9c3a-3d18f734b2ad",
   "metadata": {},
   "source": [
    "#### List all deployed agents for a given project and location:\n",
    "Each deployed agent has a unique identifier ***Name*** and fully qualified resource name ***Resource Name***"
   ]
  },
  {
   "cell_type": "code",
   "execution_count": null,
   "id": "102f2d86-64e4-4824-b4d8-e689d8a287f9",
   "metadata": {
    "tags": []
   },
   "outputs": [],
   "source": [
    "agents_list = agent_engines.list()\n",
    "for remote_agent in agents_list:\n",
    "    print(\"\\n------\")\n",
    "    print(f\"Display Name: {remote_agent.display_name}\")\n",
    "    print(f\"Name: {remote_agent.name}\")\n",
    "    print(f\"Resource Name: {remote_agent.resource_name}\")\n",
    "    print(f\"Create Time: {remote_agent.create_time}\")"
   ]
  },
  {
   "cell_type": "markdown",
   "id": "ab069b82-022e-499a-b05b-012a931c6934",
   "metadata": {},
   "source": [
    "#### Filter results by display_name"
   ]
  },
  {
   "cell_type": "code",
   "execution_count": null,
   "id": "d0d892f8-1229-42dc-ae9c-2a5d279e6b5f",
   "metadata": {
    "tags": []
   },
   "outputs": [],
   "source": [
    "DISPLAY_NAME = \"weather_agent_v1\""
   ]
  },
  {
   "cell_type": "code",
   "execution_count": null,
   "id": "57adc9ce-5e05-4054-b7c0-606fb4706efa",
   "metadata": {
    "tags": []
   },
   "outputs": [],
   "source": [
    "AGENT_RESOURCE_NAME = (\n",
    "    \"projects/ ... /locations/us-central1/reasoningEngines/ ... \"\n",
    ")\n",
    "AGENT_RESOURCE_ID = \" ... \"\n",
    "agents_list = agent_engines.list(filter=f'display_name=\"{DISPLAY_NAME}\"')\n",
    "if agents_list:\n",
    "    AGENT_RESOURCE_ID = remote_agent.name\n",
    "    print(f\"Agent Name: {remote_agent.name}\")\n",
    "    AGENT_RESOURCE_NAME = remote_agent.resource_name\n",
    "    print(f\"Resource Name: {remote_agent.resource_name}\")"
   ]
  },
  {
   "cell_type": "markdown",
   "id": "810c0e8f-13fd-430b-b9bd-603ea36ef44a",
   "metadata": {},
   "source": [
    "#### Get a deployed agent\n",
    "The following code lets you get a specific deployed agent:"
   ]
  },
  {
   "cell_type": "code",
   "execution_count": null,
   "id": "a72b053b-97c6-43e5-91d0-0b735bc3cafc",
   "metadata": {
    "tags": []
   },
   "outputs": [],
   "source": [
    "from vertexai import agent_engines\n",
    "\n",
    "remote_agent = agent_engines.get(AGENT_RESOURCE_NAME)\n",
    "remote_agent"
   ]
  },
  {
   "cell_type": "markdown",
   "id": "be1ba3d9-038c-4dcd-96b9-3dcc5b0acbba",
   "metadata": {},
   "source": [
    "Alternately, you can provide the fully qualified resource name:"
   ]
  },
  {
   "cell_type": "code",
   "execution_count": null,
   "id": "e36f427c-b800-454e-a8c3-17fc7181be51",
   "metadata": {
    "tags": []
   },
   "outputs": [],
   "source": [
    "from vertexai import agent_engines\n",
    "\n",
    "remote_agent = agent_engines.get(AGENT_RESOURCE_ID)\n",
    "remote_agent"
   ]
  },
  {
   "cell_type": "markdown",
   "id": "b7c3b3e8-3c56-41fb-9a74-bf418bac0d32",
   "metadata": {},
   "source": [
    "### Update a deployed agent"
   ]
  },
  {
   "cell_type": "markdown",
   "id": "8ca08177-a6bd-4c06-a76f-8b1372a80581",
   "metadata": {
    "tags": []
   },
   "source": [
    "**NOTE: You can skip this step if you have already created \"./adk_agents/agent2_sub_agent/\" files from the previous Lab: \"Building Generative AI Agents with the Agent Development Kit (ADK)\"**"
   ]
  },
  {
   "cell_type": "markdown",
   "id": "78aa9a61-486f-473d-b350-d1f0716edb3c",
   "metadata": {
    "tags": []
   },
   "source": [
    "Define Tools for Sub-Agents\n",
    "\n",
    "First, we'll copy the `get_weather` tool we created in Step 1 into the directory for our new agent team. \n",
    "\n",
    "We'll then add new tools for greetings and farewells to the same file."
   ]
  },
  {
   "cell_type": "code",
   "execution_count": null,
   "id": "dd32939e-62c6-4e5d-ab4a-0c90855319d6",
   "metadata": {
    "tags": []
   },
   "outputs": [],
   "source": [
    "!cp ./adk_agents/agent1_weather_lookup/tools.py ./adk_agents/agent2_sub_agent/"
   ]
  },
  {
   "cell_type": "markdown",
   "id": "0415d1b2-1ccc-459b-91e1-17a781a34397",
   "metadata": {},
   "source": [
    "Next, let's create the Python functions that will serve as tools for our new greeting and farewell specialist agents. Remember, clear and descriptive docstrings are vital for the LLMs of the agents that will use them."
   ]
  },
  {
   "cell_type": "code",
   "execution_count": null,
   "id": "f17e44ad-2f5e-4503-9fab-69a626792846",
   "metadata": {
    "tags": []
   },
   "outputs": [],
   "source": [
    "%%writefile -a ./adk_agents/agent2_sub_agent/tools.py\n",
    "\n",
    "def say_hello(name: str = \"there\") -> str:\n",
    "    \"\"\"Provides a simple greeting, optionally addressing the user by name.\n",
    "\n",
    "    Args:\n",
    "        name (str, optional): The name of the person to greet. Defaults to \"there\".\n",
    "\n",
    "    Returns:\n",
    "        str: A friendly greeting message.\n",
    "    \"\"\"\n",
    "    if name is None or name.strip() == \"\":\n",
    "        name = \"there\"\n",
    "    print(f\"--- Tool: say_hello called with name: {name} ---\")\n",
    "    return f\"Hello, {name}!\"\n",
    "\n",
    "def say_goodbye() -> str:\n",
    "    \"\"\"Provides a simple farewell message to conclude the conversation.\"\"\"\n",
    "    print(f\"--- Tool: say_goodbye called ---\")\n",
    "    return \"Goodbye! Have a great day.\""
   ]
  },
  {
   "cell_type": "code",
   "execution_count": null,
   "id": "a26c3ad7-3348-4a16-a287-560e04d3cba9",
   "metadata": {
    "tags": []
   },
   "outputs": [],
   "source": [
    "from adk_agents.agent2_sub_agent import tools\n",
    "\n",
    "print(tools.say_hello(\"Alice\"))\n",
    "print(tools.say_goodbye())"
   ]
  },
  {
   "cell_type": "markdown",
   "id": "1df8f532-9d61-4249-aca8-4de16fdc7cc7",
   "metadata": {},
   "source": [
    "Define the Sub-Agents (Greeting & Farewell)\n",
    "\n",
    "Now, we'll create the `Agent` instances for our specialist sub-agents. Notice their highly focused `instruction` prompts and, critically, their clear `description` fields. The `description` is the primary piece of information the *root agent's* LLM uses to determine *when* to delegate a task to one of these sub-agents.\n",
    "\n",
    "**Best Practice:**\n",
    "* A sub-agent's `description` field should accurately and concisely summarize its specific capability. This is crucial for effective automatic delegation.\n",
    "* A sub-agent's `instruction` field should be tailored to its limited scope, telling it exactly what to do and, importantly, *what not* to do (e.g., \"Your *only* task is to...\")."
   ]
  },
  {
   "cell_type": "code",
   "execution_count": null,
   "id": "2bf2dc62-a629-49a6-9eff-cffc764757d4",
   "metadata": {
    "tags": []
   },
   "outputs": [],
   "source": [
    "%%writefile ./adk_agents/agent2_sub_agent/agent.py\n",
    "from google.adk.agents import Agent\n",
    "MODEL = \"gemini-2.0-flash\"\n",
    "\n",
    "from .tools import get_weather, say_hello, say_goodbye\n",
    "\n",
    "# --- Greeting Agent ---\n",
    "greeting_agent = Agent(\n",
    "    model=MODEL,\n",
    "    name=\"greeting_agent\",\n",
    "    instruction=\"You are the Greeting Agent. Your ONLY task is to provide a friendly greeting to the user. \"\n",
    "                \"Use the 'say_hello' tool to generate the greeting. \"\n",
    "                \"If the user provides their name, make sure to pass it to the tool. \"\n",
    "                \"Do not engage in any other conversation or tasks.\",\n",
    "    description=\"Handles simple greetings and hellos using the 'say_hello' tool.\", # Crucial for delegation\n",
    "    tools=[say_hello],\n",
    ")"
   ]
  },
  {
   "cell_type": "code",
   "execution_count": null,
   "id": "41c192e6-661b-47ec-acfb-52ce91fac72a",
   "metadata": {
    "tags": []
   },
   "outputs": [],
   "source": [
    "%%writefile -a ./adk_agents/agent2_sub_agent/agent.py\n",
    "\n",
    "# --- Farewell Agent ---\n",
    "farewell_agent = Agent(\n",
    "    model=MODEL,\n",
    "    name=\"farewell_agent\",\n",
    "    instruction=\"You are the Farewell Agent. Your ONLY task is to provide a polite goodbye message. \"\n",
    "                \"Use the 'say_goodbye' tool when the user indicates they are leaving or ending the conversation \"\n",
    "                \"(e.g., using words like 'bye', 'goodbye', 'thanks bye', 'see you'). \"\n",
    "                \"Do not perform any other actions.\",\n",
    "    description=\"Handles simple farewells and goodbyes using the 'say_goodbye' tool.\", # Crucial for delegation\n",
    "    tools=[say_goodbye],\n",
    ")"
   ]
  },
  {
   "cell_type": "markdown",
   "id": "4a471f42-c2ce-4bbf-b6d4-5618925f6fcd",
   "metadata": {
    "tags": []
   },
   "source": [
    "Define the Root Agent (`weather_agent_v2`) with Sub-Agents\n",
    "\n",
    "Now, we'll define `weather_agent_v2` to act as our root agent. The key changes from `weather_agent_v1` are:\n",
    "\n",
    "* Adding the `sub_agents` parameter: We pass a list containing the `greeting_agent` and `farewell_agent` instances we just created.\n",
    "* Updating the `instruction`: We explicitly tell the root agent *about* its sub-agents and *when* it should delegate tasks to them.\n",
    "\n",
    "**Key Concept: Automatic Delegation (Auto Flow)**\n",
    "By providing the `sub_agents` list to an agent, ADK enables automatic delegation. When the root agent (in this case, `weather_agent_v2`) receives a user query, its LLM considers not only its own instructions and tools but also the `description` of each sub-agent. If the LLM determines that a query aligns better with a sub-agent's described capability (e.g., the `greeting_agent`'s description: \"Handles simple greetings...\"), it will automatically generate a special internal action to *transfer control* to that sub-agent for that conversational turn. The chosen sub-agent then processes the query using its own LLM, instructions, and tools.\n",
    "\n",
    "**Best Practice:** Ensure the root agent's instructions clearly guide its delegation decisions. Mention the sub-agents (often by `name`) and describe the conditions under which delegation to each should occur."
   ]
  },
  {
   "cell_type": "code",
   "execution_count": null,
   "id": "db625e4a-2ba6-4b5e-b764-5b5ff54afb57",
   "metadata": {
    "tags": []
   },
   "outputs": [],
   "source": [
    "%%writefile -a ./adk_agents/agent2_sub_agent/agent.py\n",
    "\n",
    "root_agent = Agent(\n",
    "    name=\"weather_agent_v2\", # Give it a new version name\n",
    "    model=MODEL,\n",
    "    description=\"The main coordinator agent. Handles weather requests and delegates greetings/farewells to specialists.\",\n",
    "    instruction=\"You are the main Weather Agent coordinating a team. Your primary responsibility is to provide weather information. \"\n",
    "                \"Use the 'get_weather' tool ONLY for specific weather requests (e.g., 'weather in London'). \"\n",
    "                \"You have specialized sub-agents: \"\n",
    "                \"1. 'greeting_agent': Handles simple greetings like 'Hi', 'Hello'. Delegate to it for these. \"\n",
    "                \"2. 'farewell_agent': Handles simple farewells like 'Bye', 'See you'. Delegate to it for these. \"\n",
    "                \"Analyze the user's query. If it's a greeting, delegate to 'greeting_agent'. If it's a farewell, delegate to 'farewell_agent'. \"\n",
    "                \"If it's a weather request, handle it yourself using 'get_weather'. \"\n",
    "                \"For anything else, respond appropriately or state you cannot handle it.\",\n",
    "    tools=[get_weather],\n",
    "    sub_agents=[greeting_agent, farewell_agent]\n",
    ")"
   ]
  },
  {
   "cell_type": "code",
   "execution_count": null,
   "id": "ed9fc69d-41e9-46ce-a5ae-fec1572f63c7",
   "metadata": {
    "tags": []
   },
   "outputs": [],
   "source": [
    "from adk_agents.agent2_sub_agent import agent as agent2\n",
    "\n",
    "importlib.reload(agent2)  # Force reload"
   ]
  },
  {
   "cell_type": "markdown",
   "id": "2013a1ab-f22a-44c4-a6a3-50e6394e5571",
   "metadata": {},
   "source": [
    "Test for local changes:"
   ]
  },
  {
   "cell_type": "code",
   "execution_count": null,
   "id": "32850109-a003-4856-b8a5-41a2b2e6d660",
   "metadata": {
    "tags": []
   },
   "outputs": [],
   "source": [
    "# Example tool usage (optional test)\n",
    "print(tools.say_hello(\"Alice\"))\n",
    "print(agent2.get_weather(\"New York\"))\n",
    "print(tools.say_goodbye())"
   ]
  },
  {
   "cell_type": "markdown",
   "id": "479f0ae3-fbd1-4ebd-93ae-9ad8e05f57cd",
   "metadata": {
    "tags": []
   },
   "source": [
    "### Update a deployed agent\n",
    "You can update one or more fields of the deployed agent at the same time, but you have to specify at least one of the fields to be updated. The amount of time it takes to update the deployed agent depends on the update being performed, but it generally takes between a few seconds to a few minutes.\n",
    "\n",
    "To update a deployed agent (***weather_agent_v1***, corresponding to AGENT_RESOURCE_ID) to an updated agent (***weather_agent_v2*** corresponding to UPDATED_AGENT_APP):"
   ]
  },
  {
   "cell_type": "code",
   "execution_count": null,
   "id": "e57002c2-dd54-47c6-acfd-4010c8ad0c85",
   "metadata": {
    "tags": []
   },
   "outputs": [],
   "source": [
    "from vertexai import agent_engines\n",
    "\n",
    "UPDATED_AGENT_APP = AdkApp(agent=agent2.root_agent, enable_tracing=True)\n",
    "\n",
    "agent_engines.update(\n",
    "    resource_name=AGENT_RESOURCE_ID,\n",
    "    agent_engine=UPDATED_AGENT_APP,\n",
    "    description=\"Weather Agent v2\",\n",
    "    display_name=agent2.root_agent.name,\n",
    "    requirements=[\n",
    "        \"google-adk (>=1.5.0)\",\n",
    "        \"google-genai (>=1.5.0,<2.0.0)\",\n",
    "    ],\n",
    "    extra_packages=[\"./adk_agents/\"],\n",
    ")"
   ]
  },
  {
   "cell_type": "markdown",
   "id": "40cc6c72-cf6f-4c87-9cab-b7c655d5c5a4",
   "metadata": {},
   "source": [
    "Checking changed result, after agent update:"
   ]
  },
  {
   "cell_type": "code",
   "execution_count": null,
   "id": "7c799832-f395-421b-9b02-8eb8f956b7f5",
   "metadata": {},
   "outputs": [],
   "source": [
    "for event in remote_app.stream_query(\n",
    "    user_id=USER_ID,\n",
    "    session_id=remote_session[\"id\"],\n",
    "    message=\"Hello!\",\n",
    "):\n",
    "    for key, label in event.items():\n",
    "        print(\"\\n------>\")\n",
    "        print(f\"{key} : {label}\")"
   ]
  },
  {
   "cell_type": "code",
   "execution_count": null,
   "id": "ec2f629d-4b0d-427b-9d8e-1eba09f7fe25",
   "metadata": {},
   "outputs": [],
   "source": [
    "for event in remote_app.stream_query(\n",
    "    user_id=USER_ID,\n",
    "    session_id=remote_session[\"id\"],\n",
    "    message=\"Bye!\",\n",
    "):\n",
    "    for key, label in event.items():\n",
    "        print(\"\\n------>\")\n",
    "        print(f\"{key} : {label}\")"
   ]
  },
  {
   "cell_type": "markdown",
   "id": "31650488-1e42-465e-8eab-05d3f092b5fb",
   "metadata": {},
   "source": [
    "### Clean up\n",
    "After you have finished, it is a good practice to clean up your cloud resources. \n",
    "You can delete the deployed Agent Engine instance by using the next code:"
   ]
  },
  {
   "cell_type": "code",
   "execution_count": null,
   "id": "ea315675-5ac8-42e5-b871-86229644f2d7",
   "metadata": {
    "tags": []
   },
   "outputs": [],
   "source": [
    "remote_app.delete(force=True)"
   ]
  },
  {
   "cell_type": "markdown",
   "id": "f21ad889-fb3e-4d89-9e66-ea27e4a52ed0",
   "metadata": {},
   "source": [
    "Alternatively, you can call agent_engines.delete() to delete the deployed agent corresponding to AGENT_RESOURCE_ID in the following way:\n"
   ]
  },
  {
   "cell_type": "code",
   "execution_count": null,
   "id": "c5b70b48-fa50-46f5-8f7e-387d5509d8af",
   "metadata": {},
   "outputs": [],
   "source": [
    "agent_engines.delete(AGENT_RESOURCE_ID)"
   ]
  },
  {
   "cell_type": "markdown",
   "id": "562b6138-4d26-40ca-a306-3470b1136367",
   "metadata": {},
   "source": [
    "Copyright 2025 Google LLC\n",
    "\n",
    "Licensed under the Apache License, Version 2.0 (the \"License\"); you may not use this file except in compliance with the License. You may obtain a copy of the License at\n",
    "\n",
    "https://www.apache.org/licenses/LICENSE-2.0\n",
    "Unless required by applicable law or agreed to in writing, software distributed under the License is distributed on an \"AS IS\" BASIS, WITHOUT WARRANTIES OR CONDITIONS OF ANY KIND, either express or implied. See the License for the specific language governing permissions and limitations under the License."
   ]
  }
 ],
 "metadata": {
  "environment": {
   "kernel": "conda-env-adk_kernel-adk_kernel",
   "name": "workbench-notebooks.m129",
   "type": "gcloud",
   "uri": "us-docker.pkg.dev/deeplearning-platform-release/gcr.io/workbench-notebooks:m129"
  },
  "kernelspec": {
   "display_name": "ADK kernel",
   "language": "python",
   "name": "conda-env-adk_kernel-adk_kernel"
  },
  "language_info": {
   "codemirror_mode": {
    "name": "ipython",
    "version": 3
   },
   "file_extension": ".py",
   "mimetype": "text/x-python",
   "name": "python",
   "nbconvert_exporter": "python",
   "pygments_lexer": "ipython3",
   "version": "3.10.14"
  }
 },
 "nbformat": 4,
 "nbformat_minor": 5
}
